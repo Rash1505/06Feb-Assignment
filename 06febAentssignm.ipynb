{
 "cells": [
  {
   "cell_type": "markdown",
   "id": "0a2a6151-ef9c-449c-a5aa-d8355fc606e6",
   "metadata": {},
   "source": [
    " Q1. Create a function which will take a list as an argument and return the product\n",
    "    of all the numbers after creating a flat list.\n",
    "    Use the below-given list as an argument for your function.\n",
    "    \n",
    "    list1=[1,2,3,4,[44,55,66,True],False,(34,56,89,34),{1,2,3,3,2,1},{1:34,\"key2\":[55,67,78,89],4:(45,22,61,34)},[56,'data science'].'Machine Learning']\n",
    "    \n",
    "    Note; you must extract numberic keys and values of the dictionary also."
   ]
  },
  {
   "cell_type": "code",
   "execution_count": 2,
   "id": "a4a43dff-f19f-42df-a161-e48aa18e1205",
   "metadata": {},
   "outputs": [],
   "source": [
    "list1=[1,2,3,4,[44,55,66,True],False,(34,56,89,34),{1,2,3,3,2,1},{1:34,\"key2\":[55,67,78,89],\n",
    "       4:(45,22,61,34)},[56,'data science'],'Machine Learning']"
   ]
  },
  {
   "cell_type": "code",
   "execution_count": 3,
   "id": "cae20c64-0c6b-468b-ad34-edfdf477d65d",
   "metadata": {},
   "outputs": [],
   "source": [
    "from functools import reduce"
   ]
  },
  {
   "cell_type": "code",
   "execution_count": 4,
   "id": "f8fbd81a-d0a1-497d-8562-a0aaa3bbc325",
   "metadata": {},
   "outputs": [],
   "source": [
    "flat_list = []\n",
    "def test(x):\n",
    "    for i in x :\n",
    "        if type(i) == int :\n",
    "            flat_list.append(i)\n",
    "        elif type(i) == list :\n",
    "            for j in i:\n",
    "                if type(j) == int :\n",
    "                    flat_list.append(j)\n",
    "        elif type(i) == tuple:\n",
    "            for k in i :\n",
    "                if type(k) == int :\n",
    "                    flat_list.append(k)\n",
    "        elif type(i) == dict :\n",
    "            for key,value in i.items() :\n",
    "                if type(key) == int :\n",
    "                    flat_list.append(key)\n",
    "                if type(value) == int :\n",
    "                    flat_list.append(value) \n",
    "                elif type(value) == int :\n",
    "                    flat_list.append(value)\n",
    "                elif type(value) == list :\n",
    "                    for l in value :\n",
    "                        if type(l) == int :\n",
    "                            flat_list.append(l)\n",
    "                elif type(value) == tuple :\n",
    "                    for n in value :\n",
    "                        if type(n) == int :\n",
    "                            flat_list.append(n)\n",
    "        elif type(i) == set :\n",
    "            for m in i :\n",
    "                if type(m) == int :\n",
    "                    flat_list.append(m)"
   ]
  },
  {
   "cell_type": "code",
   "execution_count": 5,
   "id": "94e95843-0788-44b0-8555-da821046f450",
   "metadata": {},
   "outputs": [],
   "source": [
    "test(list1)"
   ]
  },
  {
   "cell_type": "code",
   "execution_count": 6,
   "id": "09736a7d-b5c4-40b7-80b9-0fa52e1d9197",
   "metadata": {},
   "outputs": [
    {
     "data": {
      "text/plain": [
       "[1,\n",
       " 2,\n",
       " 3,\n",
       " 4,\n",
       " 44,\n",
       " 55,\n",
       " 66,\n",
       " 34,\n",
       " 56,\n",
       " 89,\n",
       " 34,\n",
       " 1,\n",
       " 2,\n",
       " 3,\n",
       " 1,\n",
       " 34,\n",
       " 55,\n",
       " 67,\n",
       " 78,\n",
       " 89,\n",
       " 4,\n",
       " 45,\n",
       " 22,\n",
       " 61,\n",
       " 34,\n",
       " 56]"
      ]
     },
     "execution_count": 6,
     "metadata": {},
     "output_type": "execute_result"
    }
   ],
   "source": [
    "flat_list"
   ]
  },
  {
   "cell_type": "code",
   "execution_count": 8,
   "id": "7eb17e13-93a1-4ff0-ba67-3c80f92f04bb",
   "metadata": {},
   "outputs": [
    {
     "data": {
      "text/plain": [
       "26"
      ]
     },
     "execution_count": 8,
     "metadata": {},
     "output_type": "execute_result"
    }
   ],
   "source": [
    "len(flat_list)"
   ]
  },
  {
   "cell_type": "code",
   "execution_count": 7,
   "id": "a0575183-f381-4aa2-9df3-8b6a3006f3dd",
   "metadata": {},
   "outputs": [
    {
     "name": "stdout",
     "output_type": "stream",
     "text": [
      "53009126140860070241459503104000\n"
     ]
    }
   ],
   "source": [
    "product= reduce(lambda x,y: x*y, flat_list)\n",
    "print(product)"
   ]
  },
  {
   "cell_type": "markdown",
   "id": "0cc228d8-7983-48a7-aa94-acfbf9a829d1",
   "metadata": {},
   "source": [
    "Q2. Write a python program for encrypting a message sent to you by your friend.\n",
    "    the logic of encryption should be such that, for a the output should be z.For b, the output should be y.\n",
    "    for c, the output should be x respectively. Also, the whitespace should be replaced with a dollar sign.\n",
    "    keep the punctuation marks unchanged.\n",
    "    \n",
    "    input sentence: I want to become a Data Scientist.\n",
    "    \n",
    "    Encrypt the above input sentence using the program you just created.\n",
    "    \n",
    "    Note: Convert the given input sentence into lowercase before encryptinng. The final output should be \n",
    "    lowercase."
   ]
  },
  {
   "cell_type": "code",
   "execution_count": 9,
   "id": "4044f9b3-5130-49a2-9199-6506c72125e3",
   "metadata": {},
   "outputs": [],
   "source": [
    "s='I want to become a Data Scientist.'"
   ]
  },
  {
   "cell_type": "code",
   "execution_count": 10,
   "id": "e705fc4b-818c-4cad-86d0-0e674ecd5044",
   "metadata": {},
   "outputs": [],
   "source": [
    "dict={'a':'z','b':'y','c':'x','d':'w','e':'v','f':'u','g':'t','h':'s','i':'r','j':'q',\n",
    "      'k':'p','l':'o','m':'n','n':'m','o':'l','p':'k','q':'j','r':'i','s':'h','t':'g','u':'f','v':'e',\n",
    "      'w':'d','x':'c','y':'b','z':'a'}"
   ]
  },
  {
   "cell_type": "code",
   "execution_count": 11,
   "id": "c7f7ea4e-7eaf-48e9-9aec-0d97c7a46912",
   "metadata": {},
   "outputs": [
    {
     "data": {
      "text/plain": [
       "{'a': 'z',\n",
       " 'b': 'y',\n",
       " 'c': 'x',\n",
       " 'd': 'w',\n",
       " 'e': 'v',\n",
       " 'f': 'u',\n",
       " 'g': 't',\n",
       " 'h': 's',\n",
       " 'i': 'r',\n",
       " 'j': 'q',\n",
       " 'k': 'p',\n",
       " 'l': 'o',\n",
       " 'm': 'n',\n",
       " 'n': 'm',\n",
       " 'o': 'l',\n",
       " 'p': 'k',\n",
       " 'q': 'j',\n",
       " 'r': 'i',\n",
       " 's': 'h',\n",
       " 't': 'g',\n",
       " 'u': 'f',\n",
       " 'v': 'e',\n",
       " 'w': 'd',\n",
       " 'x': 'c',\n",
       " 'y': 'b',\n",
       " 'z': 'a'}"
      ]
     },
     "execution_count": 11,
     "metadata": {},
     "output_type": "execute_result"
    }
   ],
   "source": [
    "dict"
   ]
  },
  {
   "cell_type": "code",
   "execution_count": 16,
   "id": "6f051f07-6d68-42d0-aee7-cbebdf2a7ab8",
   "metadata": {},
   "outputs": [],
   "source": [
    "s = s.lower()"
   ]
  },
  {
   "cell_type": "code",
   "execution_count": 17,
   "id": "c1818c3d-eebf-406c-a5e2-aa335a292a1d",
   "metadata": {},
   "outputs": [
    {
     "data": {
      "text/plain": [
       "'i want to become a data scientist.'"
      ]
     },
     "execution_count": 17,
     "metadata": {},
     "output_type": "execute_result"
    }
   ],
   "source": [
    "s"
   ]
  },
  {
   "cell_type": "code",
   "execution_count": 21,
   "id": "2baa8f3d-d0fc-4d9d-aa45-3db71ab31183",
   "metadata": {},
   "outputs": [
    {
     "name": "stdout",
     "output_type": "stream",
     "text": [
      "r$dzmg$gl$yvxlnv$z$wzgz$hxrvmgrhg\n"
     ]
    }
   ],
   "source": [
    "encrypt_list=[]\n",
    "for i in s:\n",
    "    if i==' ':\n",
    "        encrypt_list.append('$')\n",
    "    if i in dict :\n",
    "        encrypt_list.append(dict[i])\n",
    "encrypt_message= \"\".join(encrypt_list)\n",
    "print(encrypt_message)\n",
    "        \n",
    "    "
   ]
  },
  {
   "cell_type": "code",
   "execution_count": null,
   "id": "5f6ba2ea-4c19-4c49-be0e-5a43becbd95d",
   "metadata": {},
   "outputs": [],
   "source": []
  }
 ],
 "metadata": {
  "kernelspec": {
   "display_name": "Python 3 (ipykernel)",
   "language": "python",
   "name": "python3"
  },
  "language_info": {
   "codemirror_mode": {
    "name": "ipython",
    "version": 3
   },
   "file_extension": ".py",
   "mimetype": "text/x-python",
   "name": "python",
   "nbconvert_exporter": "python",
   "pygments_lexer": "ipython3",
   "version": "3.10.8"
  }
 },
 "nbformat": 4,
 "nbformat_minor": 5
}
